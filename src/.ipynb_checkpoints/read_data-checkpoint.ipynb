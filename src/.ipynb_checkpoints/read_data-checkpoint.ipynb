{
 "cells": [
  {
   "cell_type": "code",
   "execution_count": 1,
   "metadata": {},
   "outputs": [],
   "source": [
    "%matplotlib inline\n",
    "%load_ext autoreload\n",
    "%autoreload 2\n",
    "\n",
    "import os\n",
    "import numpy as np\n",
    "import pandas as pd\n",
    "import matplotlib.pyplot as plt\n",
    "\n",
    "from utils import *"
   ]
  },
  {
   "cell_type": "markdown",
   "metadata": {},
   "source": [
    "## Datasets for Classification\n",
    "\n",
    "Details for each dataset are provided in utils/data_loader.py\n",
    "\n",
    "Packages required to load USA_literacy:\n",
    "sas7bdat"
   ]
  },
  {
   "cell_type": "code",
   "execution_count": 2,
   "metadata": {},
   "outputs": [
    {
     "name": "stderr",
     "output_type": "stream",
     "text": [
      "\u001b[33m[USA_literacy_numeracy.sas7bdat] column count mismatch\u001b[0m\n"
     ]
    },
    {
     "name": "stdout",
     "output_type": "stream",
     "text": [
      "India_distress (40286, 26)\n",
      "USA_literacy (4661, 40)\n",
      "USA_kidney (42464, 28)\n",
      "India_HIV (9666, 17)\n",
      "Zambia_perception_mc1 (1082, 16)\n",
      "Angola_maternal (10010, 9)\n",
      "Congo_fever (956, 11)\n",
      "Sjogren_ModelA (92016, 3)\n",
      "Sjogren_ModelB (92016, 4)\n",
      "USA_obesity (13160, 9)\n",
      "SouthAmerica_tuberculosis (478, 14)\n",
      "Infection (288, 15)\n",
      "Qatar_antibodies (1894, 10)\n",
      "Maternal_deaths (9258, 12)\n"
     ]
    }
   ],
   "source": [
    "dir_data = '../data/clss'\n",
    "names_data = ['India_distress', 'USA_literacy',  'USA_kidney', 'India_HIV', 'Zambia_perception_mc1', \n",
    "              'Angola_maternal', 'Congo_fever', 'Sjogren_ModelA', 'Sjogren_ModelB', 'USA_obesity', \n",
    "              'SouthAmerica_tuberculosis', 'Infection', 'Qatar_antibodies', 'Maternal_deaths']\n",
    "for name_data in names_data:\n",
    "    X, y, names_covariates = load_clss_data(name_data, dir_data)\n",
    "    print(name_data, X.shape)"
   ]
  },
  {
   "cell_type": "markdown",
   "metadata": {},
   "source": [
    "## Datasets for Regression\n",
    "\n",
    "Details for each dataset are provided in utils/data_loader.py"
   ]
  },
  {
   "cell_type": "code",
   "execution_count": 3,
   "metadata": {},
   "outputs": [
    {
     "name": "stdout",
     "output_type": "stream",
     "text": [
      "Dutch_drinking_inh (12121, 16)\n",
      "Dutch_drinking_wm (12131, 16)\n",
      "Dutch_drinking_sha (12098, 16)\n",
      "Brazil_health_heart (7728, 6)\n",
      "Brazil_health_stroke (9675, 6)\n",
      "Korea_grip (1022, 11)\n",
      "China_glucose_women2 (4568, 11)\n",
      "China_glucose_men2 (4360, 11)\n",
      "Spain_Hair (529, 5)\n",
      "China_HIV (2410, 27)\n"
     ]
    }
   ],
   "source": [
    "dir_data = '../data/regr'\n",
    "\n",
    "names_data = ['Dutch_drinking_inh', 'Dutch_drinking_wm', 'Dutch_drinking_sha', 'Brazil_health_heart', \n",
    "              'Brazil_health_stroke', 'Korea_grip', 'China_glucose_women2', 'China_glucose_men2', \n",
    "              'Spain_Hair', 'China_HIV']\n",
    "\n",
    "for name_data in names_data:\n",
    "    X, y, names_covariates = load_regr_data(name_data, dir_data)\n",
    "    y = y.astype(np.float)\n",
    "    print(name_data, X.shape)"
   ]
  },
  {
   "cell_type": "code",
   "execution_count": null,
   "metadata": {},
   "outputs": [],
   "source": []
  }
 ],
 "metadata": {
  "anaconda-cloud": {},
  "kernelspec": {
   "display_name": "Python 3",
   "language": "python",
   "name": "python3"
  },
  "language_info": {
   "codemirror_mode": {
    "name": "ipython",
    "version": 3
   },
   "file_extension": ".py",
   "mimetype": "text/x-python",
   "name": "python",
   "nbconvert_exporter": "python",
   "pygments_lexer": "ipython3",
   "version": "3.7.5"
  }
 },
 "nbformat": 4,
 "nbformat_minor": 1
}
